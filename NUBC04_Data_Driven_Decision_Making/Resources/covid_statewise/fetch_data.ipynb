{
 "cells": [
  {
   "cell_type": "markdown",
   "metadata": {},
   "source": [
    "# India Statewise COVID-19 Pandemic Data Analysis\n",
    "\n",
    "## Scraping the data\n",
    "The HTML of <a href=\"https://www.mygov.in/corona-data/covid19-statewise-status/\"> this</a> is scraped to get the latest data as an R dataframe."
   ]
  },
  {
   "cell_type": "markdown",
   "metadata": {},
   "source": [
    "### Deducing xpath structure of web data\n",
    "Say $p=$\"/html/body/div[1]/div[4]/div/div/div/div[2]/div[2]/div/div/article/div/div[16]/div/div[2]\"\n",
    "\n",
    "Then ith row of the table is p/div[i]. Let $r_i=$ \"$p$/div[i] & $i \\epsilon [2, 36]$. $i=1$ does not adhere to deduced xpath notations. Include that manually.\n",
    "\n",
    "So jth variable is $r_i$/div/div/div/div[j]. Let $v_{i,j} =$ \"$r_i$/div/div/div/div[j]\" & $j \\epsilon [1, 3]$.\n",
    "\n",
    "Name the variables accordingly.\n",
    "\n",
    "So finally, xpath = \"/html/body/div[1]/div[4]/div/div/div/div[2]/div[2]/div/div/article/div/div[16]/div/div[2]/div[i]/div/div/div/div[j]\""
   ]
  },
  {
   "cell_type": "code",
   "execution_count": 57,
   "metadata": {},
   "outputs": [],
   "source": [
    "i_first <-  2\n",
    "i_last  <- 36\n",
    "j_first <-  1\n",
    "j_last  <-  4\n",
    "url <- \"https://www.mygov.in/corona-data/covid19-statewise-status/\"\n",
    "\n",
    "library(tidyverse)\n",
    "library(dplyr)\n",
    "library(rvest)\n",
    "library(xlsx)"
   ]
  },
  {
   "cell_type": "code",
   "execution_count": 26,
   "metadata": {},
   "outputs": [],
   "source": [
    "# Loading HTML & setting up xpath\n",
    "req_xpath <- \"/html/body/div[1]/div[4]/div/div/div/div[2]/div[2]/div/div/article/div/div[16]/div/div[2]/div[row]/div/div/div/div[col]\"\n",
    "webpage <- read_html(url)\n",
    "\n",
    "# Creating vectors\n",
    "len <- i_last\n",
    "state <- character(len)\n",
    "total_confirmed <- character(len)\n",
    "cured_discharged_migrated <- character(len)\n",
    "deaths <- character(len)\n",
    "\n",
    "# Manually adding first entry\n",
    "state[1] <- \"Andaman and Nicobar\"\n",
    "total_confirmed <- 24445\n",
    "cured_discharged_migrated <- 1325\n",
    "deaths <- 29"
   ]
  },
  {
   "cell_type": "code",
   "execution_count": 49,
   "metadata": {},
   "outputs": [
    {
     "data": {
      "text/html": [
       "<table>\n",
       "<thead><tr><th scope=col>state</th><th scope=col>total_confirmed</th><th scope=col>cured_discharged_migrated</th><th scope=col>deaths</th></tr></thead>\n",
       "<tbody>\n",
       "\t<tr><td>Andaman and Nicobar</td><td> 24445             </td><td>  1325             </td><td>  29               </td></tr>\n",
       "\t<tr><td>Andhra Pradesh     </td><td>296609             </td><td>209100             </td><td>2732               </td></tr>\n",
       "\t<tr><td>Arunachal Pradesh  </td><td>  2741             </td><td>  1893             </td><td>   5               </td></tr>\n",
       "\t<tr><td>Assam              </td><td> 79667             </td><td> 56734             </td><td> 197               </td></tr>\n",
       "\t<tr><td>Bihar              </td><td>106307             </td><td> 76452             </td><td> 468               </td></tr>\n",
       "\t<tr><td>Chandigarh         </td><td>  2216             </td><td>  1183             </td><td>  30               </td></tr>\n",
       "</tbody>\n",
       "</table>\n"
      ],
      "text/latex": [
       "\\begin{tabular}{r|llll}\n",
       " state & total\\_confirmed & cured\\_discharged\\_migrated & deaths\\\\\n",
       "\\hline\n",
       "\t Andaman and Nicobar &  24445              &   1325              &   29               \\\\\n",
       "\t Andhra Pradesh      & 296609              & 209100              & 2732               \\\\\n",
       "\t Arunachal Pradesh   &   2741              &   1893              &    5               \\\\\n",
       "\t Assam               &  79667              &  56734              &  197               \\\\\n",
       "\t Bihar               & 106307              &  76452              &  468               \\\\\n",
       "\t Chandigarh          &   2216              &   1183              &   30               \\\\\n",
       "\\end{tabular}\n"
      ],
      "text/markdown": [
       "\n",
       "| state | total_confirmed | cured_discharged_migrated | deaths |\n",
       "|---|---|---|---|\n",
       "| Andaman and Nicobar |  24445              |   1325              |   29                |\n",
       "| Andhra Pradesh      | 296609              | 209100              | 2732                |\n",
       "| Arunachal Pradesh   |   2741              |   1893              |    5                |\n",
       "| Assam               |  79667              |  56734              |  197                |\n",
       "| Bihar               | 106307              |  76452              |  468                |\n",
       "| Chandigarh          |   2216              |   1183              |   30                |\n",
       "\n"
      ],
      "text/plain": [
       "  state               total_confirmed cured_discharged_migrated deaths\n",
       "1 Andaman and Nicobar  24445            1325                      29  \n",
       "2 Andhra Pradesh      296609          209100                    2732  \n",
       "3 Arunachal Pradesh     2741            1893                       5  \n",
       "4 Assam                79667           56734                     197  \n",
       "5 Bihar               106307           76452                     468  \n",
       "6 Chandigarh            2216            1183                      30  "
      ]
     },
     "metadata": {},
     "output_type": "display_data"
    }
   ],
   "source": [
    "# Extracting text from nodes\n",
    "for (i in i_first:i_last) {\n",
    "    i_xpath <- req_xpath %>% str_replace(\"row\", as.character(i))\n",
    "    \n",
    "    state_xpath   <- i_xpath %>% str_replace(\"col\", \"1\")\n",
    "    confirm_xpath <- i_xpath %>% str_replace(\"col\", \"2\")\n",
    "    cured_xpath   <- i_xpath %>% str_replace(\"col\", \"3\")\n",
    "    death_xpath   <- i_xpath %>% str_replace(\"col\", \"4\")\n",
    "    \n",
    "    state[i] <- html_text(html_node(webpage, xpath = state_xpath)) %>%\n",
    "                str_replace(\"State Name:\", \"\") %>%\n",
    "                str_replace(\"\\\\s+\", \"\")\n",
    "    \n",
    "    total_confirmed[i] <- html_text(html_node(webpage, xpath = confirm_xpath)) %>%\n",
    "                str_replace(\"Total Confirmed:\", \"\") %>%\n",
    "                str_replace(\"\\\\s+\", \"\")\n",
    "    \n",
    "    cured_discharged_migrated[i] <- html_text(html_node(webpage, xpath = cured_xpath)) %>%\n",
    "                str_replace(\"Cured/ Discharged/ Migrated:\", \"\") %>%\n",
    "                str_replace(\"\\\\s+\", \"\")\n",
    "    \n",
    "    deaths[i] <- html_text(html_node(webpage, xpath = death_xpath)) %>%\n",
    "                str_replace(\"Death:\", \"\") %>%\n",
    "                str_replace(\"\\\\s+\", \"\")\n",
    "}\n",
    "\n",
    "total_confirmed <- as.numeric(total_confirmed)\n",
    "cured_discharged_migrated <- as.numeric(cured_discharged_migrated)\n",
    "deaths <- as.numeric(deaths)\n",
    "\n",
    "# Creating a dataframe\n",
    "covid_df <- data.frame(state, total_confirmed, cured_discharged_migrated, deaths)\n",
    "\n",
    "head(covid_df)"
   ]
  },
  {
   "cell_type": "code",
   "execution_count": 74,
   "metadata": {},
   "outputs": [],
   "source": [
    "# Saving the data frame\n",
    "save(covid_df, file=\".\\\\data\\\\covid_statewise.Rdata\")\n",
    "write_csv(covid_df, path=\".\\\\data\\\\covid_statewise.csv\")\n",
    "write.xlsx(covid_df, file=\".\\\\data\\\\covid_statewise.xlsx\")"
   ]
  },
  {
   "cell_type": "code",
   "execution_count": null,
   "metadata": {},
   "outputs": [],
   "source": []
  }
 ],
 "metadata": {
  "kernelspec": {
   "display_name": "R",
   "language": "R",
   "name": "ir"
  },
  "language_info": {
   "codemirror_mode": "r",
   "file_extension": ".r",
   "mimetype": "text/x-r-source",
   "name": "R",
   "pygments_lexer": "r",
   "version": "3.6.1"
  }
 },
 "nbformat": 4,
 "nbformat_minor": 2
}
